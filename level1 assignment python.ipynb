{
 "cells": [
  {
   "cell_type": "code",
   "execution_count": 1,
   "id": "29f27fd5-4512-4bed-b81c-538a871d5484",
   "metadata": {},
   "outputs": [
    {
     "name": "stdout",
     "output_type": "stream",
     "text": [
      "HOPE AI\n"
     ]
    }
   ],
   "source": [
    "print(\"HOPE AI\")"
   ]
  },
  {
   "cell_type": "code",
   "execution_count": 3,
   "id": "c7e6fa0c-7f43-4d49-b8f7-1690699ee874",
   "metadata": {},
   "outputs": [
    {
     "name": "stdin",
     "output_type": "stream",
     "text": [
      "Enter your Institute name :  HOPE AI\n"
     ]
    },
    {
     "data": {
      "text/plain": [
       "'HOPE AI'"
      ]
     },
     "execution_count": 3,
     "metadata": {},
     "output_type": "execute_result"
    }
   ],
   "source": [
    "input(\"Enter your Institute name : \")"
   ]
  },
  {
   "cell_type": "code",
   "execution_count": 5,
   "id": "1d9d0b0c-ce43-45f8-8b09-dbaca6957aba",
   "metadata": {},
   "outputs": [
    {
     "name": "stdin",
     "output_type": "stream",
     "text": [
      "Enter your name: Raj\n",
      "Enter your age :  15\n",
      "Enter your school name:  Guru School\n",
      "Enter your degree:  B.E CSE\n"
     ]
    },
    {
     "data": {
      "text/plain": [
       "'B.E CSE'"
      ]
     },
     "execution_count": 5,
     "metadata": {},
     "output_type": "execute_result"
    }
   ],
   "source": [
    "input(\"Enter your name:\")\n",
    "input(\"Enter your age : \")\n",
    "input(\"Enter your school name: \")\n",
    "input(\"Enter your degree: \")\n"
   ]
  },
  {
   "cell_type": "code",
   "execution_count": 3,
   "id": "cc46db1f-fc28-4d1c-8c29-171481dce3c6",
   "metadata": {},
   "outputs": [
    {
     "name": "stdin",
     "output_type": "stream",
     "text": [
      "Enter a 43\n",
      "Enter b 34\n"
     ]
    },
    {
     "name": "stdout",
     "output_type": "stream",
     "text": [
      "a=  43\n",
      "b=  34\n",
      "add=  77\n"
     ]
    }
   ],
   "source": [
    "a= int(input(\"Enter a\"))\n",
    "b= int(input(\"Enter b\"))\n",
    "add=a+b\n",
    "print(\"a= \",a)\n",
    "print(\"b= \",b)\n",
    "print(\"add= \",add)\n",
    "       "
   ]
  },
  {
   "cell_type": "code",
   "execution_count": 5,
   "id": "3105afe2-c503-4d1b-8624-889574d805d3",
   "metadata": {},
   "outputs": [
    {
     "name": "stdin",
     "output_type": "stream",
     "text": [
      "Enter a 43\n",
      "Enter b 34\n"
     ]
    },
    {
     "name": "stdout",
     "output_type": "stream",
     "text": [
      "a=  43\n",
      "b=  34\n",
      "sub=  9\n"
     ]
    }
   ],
   "source": [
    "a= int(input(\"Enter a\"))\n",
    "b= int(input(\"Enter b\"))\n",
    "sub=a-b\n",
    "print(\"a= \",a)\n",
    "print(\"b= \",b)\n",
    "print(\"sub= \",sub)"
   ]
  },
  {
   "cell_type": "code",
   "execution_count": 7,
   "id": "a97c32f4-e6a3-4d3c-ab18-7c37ed36b7cc",
   "metadata": {},
   "outputs": [
    {
     "name": "stdin",
     "output_type": "stream",
     "text": [
      "Enter a 63\n",
      "Enter b 97\n"
     ]
    },
    {
     "name": "stdout",
     "output_type": "stream",
     "text": [
      "a=  63\n",
      "b=  97\n",
      "mul=  6111\n"
     ]
    }
   ],
   "source": [
    "a= int(input(\"Enter a\"))\n",
    "b= int(input(\"Enter b\"))\n",
    "mul=a*b\n",
    "print(\"a= \",a)\n",
    "print(\"b= \",b)\n",
    "print(\"mul= \",mul)"
   ]
  },
  {
   "cell_type": "code",
   "execution_count": 15,
   "id": "4240717d-54c1-4c11-bae3-c68b757bef04",
   "metadata": {},
   "outputs": [
    {
     "name": "stdin",
     "output_type": "stream",
     "text": [
      "Enter a 76\n",
      "Enter b 31\n"
     ]
    },
    {
     "name": "stdout",
     "output_type": "stream",
     "text": [
      "a=  76\n",
      "b=  31\n",
      "Float Div= 2.4516129032258065\n"
     ]
    }
   ],
   "source": [
    "a= int(input(\"Enter a\"))\n",
    "b= int(input(\"Enter b\"))\n",
    "FloatDiv=a/b\n",
    "print(\"a= \",a)\n",
    "print(\"b= \",b)\n",
    "print(\"Float Div=\",FloatDiv)"
   ]
  },
  {
   "cell_type": "code",
   "execution_count": 11,
   "id": "a54dcd07-3a08-4f9c-b032-cb1f5c522b9d",
   "metadata": {},
   "outputs": [
    {
     "name": "stdin",
     "output_type": "stream",
     "text": [
      "Enter a 76\n",
      "Enter b 31\n"
     ]
    },
    {
     "name": "stdout",
     "output_type": "stream",
     "text": [
      "a=  76\n",
      "b=  31\n",
      "Floor Div= 2\n"
     ]
    }
   ],
   "source": [
    "a= int(input(\"Enter a\"))\n",
    "b= int(input(\"Enter b\"))\n",
    "FloorDiv=a//b\n",
    "print(\"a= \",a)\n",
    "print(\"b= \",b)\n",
    "print(\"Floor Div=\",FloorDiv)"
   ]
  },
  {
   "cell_type": "code",
   "execution_count": 17,
   "id": "8cdb0936-5623-4036-b236-7095f76fb918",
   "metadata": {},
   "outputs": [
    {
     "name": "stdin",
     "output_type": "stream",
     "text": [
      "Enter a 76\n",
      "Enter b 31\n"
     ]
    },
    {
     "name": "stdout",
     "output_type": "stream",
     "text": [
      "a=  76\n",
      "b=  31\n",
      "Modulo= 14\n"
     ]
    }
   ],
   "source": [
    "a= int(input(\"Enter a\"))\n",
    "b= int(input(\"Enter b\"))\n",
    "Modulo=a%b\n",
    "print(\"a= \",a)\n",
    "print(\"b= \",b)\n",
    "print(\"Modulo=\",Modulo)"
   ]
  },
  {
   "cell_type": "code",
   "execution_count": 21,
   "id": "c80ed391-6ac7-47c7-9fc9-7d1b25c5ae0b",
   "metadata": {},
   "outputs": [
    {
     "name": "stdin",
     "output_type": "stream",
     "text": [
      "Enter a 4\n",
      "Enter b 4\n"
     ]
    },
    {
     "name": "stdout",
     "output_type": "stream",
     "text": [
      "a=  4\n",
      "b=  4\n",
      "power= 256\n"
     ]
    }
   ],
   "source": [
    "a= int(input(\"Enter a\"))\n",
    "b= int(input(\"Enter b\"))\n",
    "power=a**b\n",
    "print(\"a= \",a)\n",
    "print(\"b= \",b)\n",
    "print(\"power=\",power)"
   ]
  },
  {
   "cell_type": "code",
   "execution_count": null,
   "id": "241a6487-edea-47c2-aa4f-e7a687c4e309",
   "metadata": {},
   "outputs": [],
   "source": []
  }
 ],
 "metadata": {
  "kernelspec": {
   "display_name": "Python 3 (ipykernel)",
   "language": "python",
   "name": "python3"
  },
  "language_info": {
   "codemirror_mode": {
    "name": "ipython",
    "version": 3
   },
   "file_extension": ".py",
   "mimetype": "text/x-python",
   "name": "python",
   "nbconvert_exporter": "python",
   "pygments_lexer": "ipython3",
   "version": "3.12.4"
  }
 },
 "nbformat": 4,
 "nbformat_minor": 5
}
