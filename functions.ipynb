{
 "cells": [
  {
   "cell_type": "markdown",
   "id": "a78cd493-6a0a-4b87-a5ed-8ec08e2efe47",
   "metadata": {},
   "source": [
    "def function name(arguments):\n",
    "     body....\n",
    "    .....\n",
    "         return variable\n",
    "\n",
    "\n",
    "a=function name()   ----#function call"
   ]
  },
  {
   "cell_type": "code",
   "execution_count": 18,
   "id": "dae6eebf-c696-4bbd-9f34-7eda22174464",
   "metadata": {},
   "outputs": [],
   "source": [
    "ages=[4,25,45,65]"
   ]
  },
  {
   "cell_type": "code",
   "execution_count": 6,
   "id": "a296b33b-65b3-4391-b0af-018c9b7b8697",
   "metadata": {},
   "outputs": [],
   "source": [
    "def ageCategory():  #non-parameterised function\n",
    "    for i in ages:\n",
    "        \n",
    "       if(i<18):\n",
    "            print(\"child\")\n",
    "       elif(i<35):\n",
    "            print(\"young adult\")\n",
    "       elif(i<60):\n",
    "            print(\"adult\")\n",
    "       else:\n",
    "            print(\"senior citizen\") "
   ]
  },
  {
   "cell_type": "code",
   "execution_count": 10,
   "id": "464ed747-9cc7-4b62-9920-7166cab300ce",
   "metadata": {},
   "outputs": [
    {
     "name": "stdout",
     "output_type": "stream",
     "text": [
      "child\n",
      "young adult\n",
      "adult\n",
      "senior citizen\n"
     ]
    }
   ],
   "source": [
    "ageCategory()"
   ]
  },
  {
   "cell_type": "code",
   "execution_count": 34,
   "id": "5dbe760b-21b3-4b17-aced-cc7ba176a18b",
   "metadata": {},
   "outputs": [],
   "source": [
    "#function with return variable\n",
    "def ageCategory():  #non-parameterised function\n",
    "   \n",
    "        \n",
    "       if(age<18):\n",
    "            print(\"child\")\n",
    "            category=\"C\"\n",
    "       elif(age<35):\n",
    "            print(\"young adult\")\n",
    "            category=\"YA\"\n",
    "       elif(age<60):\n",
    "            print(\"adult\")\n",
    "            category=\"A\"\n",
    "       else:\n",
    "            print(\"senior citizen\") \n",
    "            category=\"SA\"\n",
    "       return category\n"
   ]
  },
  {
   "cell_type": "code",
   "execution_count": null,
   "id": "e4873211-b34f-4ffb-b89c-ede8bed40140",
   "metadata": {},
   "outputs": [],
   "source": []
  },
  {
   "cell_type": "code",
   "execution_count": 43,
   "id": "6e686a58-76e6-4ab5-9f62-ad3108c4aa46",
   "metadata": {},
   "outputs": [
    {
     "name": "stdin",
     "output_type": "stream",
     "text": [
      "enter age 65\n"
     ]
    },
    {
     "name": "stdout",
     "output_type": "stream",
     "text": [
      "senior citizen\n"
     ]
    },
    {
     "data": {
      "text/plain": [
       "'SA'"
      ]
     },
     "execution_count": 43,
     "metadata": {},
     "output_type": "execute_result"
    }
   ],
   "source": [
    "age=int(input(\"enter age\"))\n",
    "ageCategory()"
   ]
  },
  {
   "cell_type": "code",
   "execution_count": 45,
   "id": "4259a0bf-7651-4f9c-b7ed-4d181ef6e0d7",
   "metadata": {},
   "outputs": [
    {
     "name": "stdin",
     "output_type": "stream",
     "text": [
      "enter age 4\n"
     ]
    },
    {
     "name": "stdout",
     "output_type": "stream",
     "text": [
      "child\n"
     ]
    }
   ],
   "source": [
    "#assign return variable to object\n",
    "age=int(input(\"enter age\"))\n",
    "a=ageCategory()"
   ]
  },
  {
   "cell_type": "code",
   "execution_count": 47,
   "id": "0d48094d-399e-4d2f-a005-3a3169c877e4",
   "metadata": {},
   "outputs": [
    {
     "data": {
      "text/plain": [
       "'C'"
      ]
     },
     "execution_count": 47,
     "metadata": {},
     "output_type": "execute_result"
    }
   ],
   "source": [
    "a"
   ]
  },
  {
   "cell_type": "code",
   "execution_count": 65,
   "id": "180f6d97-2a1e-4f3d-a737-54cd3d5d1866",
   "metadata": {},
   "outputs": [],
   "source": [
    "def ageCategoryNoR():  #parameterised function\n",
    "\n",
    "        \n",
    "       if(age<18):\n",
    "            print(\"child\")\n",
    "            category=\"C\"\n",
    "       elif(age<35):\n",
    "            print(\"young adult\")\n",
    "            category=\"YA\"\n",
    "       elif(age<60):\n",
    "            print(\"adult\")\n",
    "            category=\"A\"\n",
    "       else:\n",
    "            print(\"senior citizen\") \n",
    "            category=\"SA\"\n",
    "       "
   ]
  },
  {
   "cell_type": "code",
   "execution_count": 67,
   "id": "4bdfadd3-b0ef-429b-bc76-46ff80420129",
   "metadata": {},
   "outputs": [
    {
     "name": "stdin",
     "output_type": "stream",
     "text": [
      "enter age 30\n"
     ]
    },
    {
     "name": "stdout",
     "output_type": "stream",
     "text": [
      "young adult\n"
     ]
    }
   ],
   "source": [
    "age=int(input(\"enter age\"))\n",
    "a=ageCategoryNoR()"
   ]
  },
  {
   "cell_type": "code",
   "execution_count": 69,
   "id": "d9b2d5e9-8bcf-4ce2-bfb5-df11050243bc",
   "metadata": {},
   "outputs": [],
   "source": [
    "a"
   ]
  },
  {
   "cell_type": "code",
   "execution_count": 86,
   "id": "9530ccda-e67c-4a19-9fee-853843000414",
   "metadata": {},
   "outputs": [],
   "source": [
    "def OddEven():   #function definition\n",
    "    num= int(input(\"enter a number\"))\n",
    "    if (num%2==0):\n",
    "        print(\"even\")\n",
    "        answer=\"Even Number\"\n",
    "    else:\n",
    "        print(\"odd\")\n",
    "        answer=\"Odd Number\"\n",
    "    return answer"
   ]
  },
  {
   "cell_type": "code",
   "execution_count": 92,
   "id": "55c017e9-b00f-47fa-86e3-b1becd6859b4",
   "metadata": {},
   "outputs": [
    {
     "name": "stdin",
     "output_type": "stream",
     "text": [
      "enter a number 6\n"
     ]
    },
    {
     "name": "stdout",
     "output_type": "stream",
     "text": [
      "even\n"
     ]
    }
   ],
   "source": [
    "b=OddEven()  #function call"
   ]
  },
  {
   "cell_type": "code",
   "execution_count": 94,
   "id": "48e74636-012c-49bf-8076-7c8a3aa1738c",
   "metadata": {},
   "outputs": [
    {
     "name": "stdout",
     "output_type": "stream",
     "text": [
      "divisible by2\n"
     ]
    }
   ],
   "source": [
    "if (b==\"Even Number\"):\n",
    "    print(\"divisible by2\")\n",
    "else:\n",
    "    print(\"not divisile by 2\")"
   ]
  },
  {
   "cell_type": "code",
   "execution_count": 96,
   "id": "9f1788c7-9763-42b5-840a-2b9ac09720a3",
   "metadata": {},
   "outputs": [],
   "source": [
    "def bodymass():\n",
    "    bmi=int(input(\"enter the BMI\"))\n",
    "    if(bmi<18.5):\n",
    "        print(\"underweight\")\n",
    "        message=\"underweight\"\n",
    "    elif(bmi<24.9):\n",
    "        print(\"normal weight\")\n",
    "        message=\"normal weight\"\n",
    "    elif(bmi<29.9):\n",
    "        print(\"class 1 obesity\")\n",
    "        message=\"class 1 obesity\"\n",
    "    elif(bmi<39.9):\n",
    "        print(\"class 2 obesity-very overweight\")\n",
    "        message=\"class 2 obesity-very overweight\"\n",
    "    else:\n",
    "        print(\"class 3 obesity\")\n",
    "        message=\"class 3 obesity\"\n",
    "    return message"
   ]
  },
  {
   "cell_type": "code",
   "execution_count": 106,
   "id": "5e93467e-a964-497c-8797-997c9b9144c1",
   "metadata": {},
   "outputs": [
    {
     "name": "stdin",
     "output_type": "stream",
     "text": [
      "enter the BMI 45\n"
     ]
    },
    {
     "name": "stdout",
     "output_type": "stream",
     "text": [
      "class 3 obesity\n"
     ]
    },
    {
     "data": {
      "text/plain": [
       "'class 3 obesity'"
      ]
     },
     "execution_count": 106,
     "metadata": {},
     "output_type": "execute_result"
    }
   ],
   "source": [
    "bodymass()"
   ]
  },
  {
   "cell_type": "code",
   "execution_count": 116,
   "id": "1656957b-6a79-406e-b2bd-69d9c92e86a9",
   "metadata": {},
   "outputs": [],
   "source": [
    "#parameterised function\n",
    "def add(a,b):\n",
    "  a=int(input(\"Enter a\"))\n",
    "  b=int(input(\"Enter b\"))\n",
    "  sum=a+b\n",
    "  return sum"
   ]
  },
  {
   "cell_type": "code",
   "execution_count": 118,
   "id": "76ddce2b-f280-4a99-a31d-dcc6d26e194f",
   "metadata": {},
   "outputs": [
    {
     "name": "stdin",
     "output_type": "stream",
     "text": [
      "Enter a 6\n",
      "Enter b 6\n"
     ]
    },
    {
     "data": {
      "text/plain": [
       "12"
      ]
     },
     "execution_count": 118,
     "metadata": {},
     "output_type": "execute_result"
    }
   ],
   "source": [
    "add(a,b)"
   ]
  },
  {
   "cell_type": "code",
   "execution_count": null,
   "id": "df35d10e-5db3-4283-974c-10063675da14",
   "metadata": {},
   "outputs": [],
   "source": []
  }
 ],
 "metadata": {
  "kernelspec": {
   "display_name": "Python 3 (ipykernel)",
   "language": "python",
   "name": "python3"
  },
  "language_info": {
   "codemirror_mode": {
    "name": "ipython",
    "version": 3
   },
   "file_extension": ".py",
   "mimetype": "text/x-python",
   "name": "python",
   "nbconvert_exporter": "python",
   "pygments_lexer": "ipython3",
   "version": "3.12.4"
  }
 },
 "nbformat": 4,
 "nbformat_minor": 5
}
