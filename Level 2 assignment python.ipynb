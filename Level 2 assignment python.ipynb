{
 "cells": [
  {
   "cell_type": "code",
   "execution_count": 2,
   "id": "e2aa1020-c9b9-456f-af0f-5e0a773bcf40",
   "metadata": {},
   "outputs": [
    {
     "name": "stdout",
     "output_type": "stream",
     "text": [
      "0\n",
      "1\n",
      "2\n",
      "3\n",
      "4\n",
      "5\n",
      "6\n",
      "7\n",
      "8\n",
      "9\n",
      "10\n",
      "11\n",
      "12\n",
      "13\n",
      "14\n",
      "15\n",
      "16\n",
      "17\n",
      "18\n",
      "19\n"
     ]
    }
   ],
   "source": [
    "for i in range(0,20):\n",
    "    print(i)\n"
   ]
  },
  {
   "cell_type": "code",
   "execution_count": 8,
   "id": "69e1a53d-f7d7-4356-8aaa-720c4721a0f3",
   "metadata": {},
   "outputs": [
    {
     "data": {
      "text/plain": [
       "[10, 11, 12, 13, 14, 15, 16, 17, 18, 19]"
      ]
     },
     "execution_count": 8,
     "metadata": {},
     "output_type": "execute_result"
    }
   ],
   "source": [
    "numbers=[x for x in range(10,20)]\n",
    "numbers\n"
   ]
  },
  {
   "cell_type": "code",
   "execution_count": 16,
   "id": "46e89834-02eb-4e34-a1fb-604cbb2ca9ae",
   "metadata": {},
   "outputs": [
    {
     "data": {
      "text/plain": [
       "[10, 11, 12, 13, 14, 15, 16, 17, 18, 19]"
      ]
     },
     "execution_count": 16,
     "metadata": {},
     "output_type": "execute_result"
    }
   ],
   "source": [
    "[x for x in range(10,20)]"
   ]
  },
  {
   "cell_type": "code",
   "execution_count": 10,
   "id": "1df8f2db-e0f0-4fbe-be30-29b629f62ea4",
   "metadata": {},
   "outputs": [
    {
     "name": "stdout",
     "output_type": "stream",
     "text": [
      "The number of items in the list is : 7\n"
     ]
    }
   ],
   "source": [
    "a=[10,20,14,55,43,87,76]\n",
    "print(\"The number of items in the list is :\",len(a))"
   ]
  },
  {
   "cell_type": "code",
   "execution_count": 12,
   "id": "93a3fe63-fb6f-41e3-a59c-16eb68a26ced",
   "metadata": {},
   "outputs": [
    {
     "name": "stdout",
     "output_type": "stream",
     "text": [
      "A\n",
      "r\n",
      "t\n",
      "i\n",
      "f\n",
      "i\n",
      "c\n",
      "i\n",
      "a\n",
      "l\n",
      " \n",
      "I\n",
      "n\n",
      "t\n",
      "e\n",
      "l\n",
      "l\n",
      "i\n",
      "g\n",
      "e\n",
      "n\n",
      "c\n",
      "e\n"
     ]
    }
   ],
   "source": [
    "b=\"Artificial Intelligence\"\n",
    "for i in b:\n",
    "    print(i)"
   ]
  },
  {
   "cell_type": "code",
   "execution_count": 18,
   "id": "24e0c8da-c97c-44e8-b644-eff35c2a5cd9",
   "metadata": {},
   "outputs": [
    {
     "name": "stdin",
     "output_type": "stream",
     "text": [
      "Enter your name Miriam Cathy Joy\n",
      "enter your age 33\n",
      "Enter your profession AI ENthusiast\n"
     ]
    },
    {
     "data": {
      "text/plain": [
       "'AI ENthusiast'"
      ]
     },
     "execution_count": 18,
     "metadata": {},
     "output_type": "execute_result"
    }
   ],
   "source": [
    "input(\"Enter your name\")\n",
    "input(\"enter your age\")\n",
    "input(\"Enter your profession\")\n"
   ]
  },
  {
   "cell_type": "code",
   "execution_count": 31,
   "id": "c9e9020c-57b3-482f-afe5-cb4c1496eb0d",
   "metadata": {},
   "outputs": [
    {
     "name": "stdout",
     "output_type": "stream",
     "text": [
      "19 is odd\n",
      "25 is odd\n",
      "1 is odd\n"
     ]
    }
   ],
   "source": [
    "a=(20,10,16,19,25,1,276,188)\n",
    "for i in a:\n",
    "    if (i%2 != 0):\n",
    "        print(i,\"is odd\")\n",
    "   "
   ]
  },
  {
   "cell_type": "code",
   "execution_count": 33,
   "id": "008bb20a-d817-471b-bb0f-bfba0ef74a5e",
   "metadata": {},
   "outputs": [
    {
     "name": "stdout",
     "output_type": "stream",
     "text": [
      "20 is even\n",
      "10 is even\n",
      "16 is even\n",
      "276 is even\n",
      "188 is even\n"
     ]
    }
   ],
   "source": [
    "a=(20,10,16,19,25,1,276,188)\n",
    "for i in a:\n",
    "    if (i%2 == 0):\n",
    "        print(i,\"is even\")"
   ]
  },
  {
   "cell_type": "code",
   "execution_count": null,
   "id": "1a3de1c2-df7b-49e9-a584-19afce276d60",
   "metadata": {},
   "outputs": [],
   "source": []
  }
 ],
 "metadata": {
  "kernelspec": {
   "display_name": "Python 3 (ipykernel)",
   "language": "python",
   "name": "python3"
  },
  "language_info": {
   "codemirror_mode": {
    "name": "ipython",
    "version": 3
   },
   "file_extension": ".py",
   "mimetype": "text/x-python",
   "name": "python",
   "nbconvert_exporter": "python",
   "pygments_lexer": "ipython3",
   "version": "3.12.4"
  }
 },
 "nbformat": 4,
 "nbformat_minor": 5
}
