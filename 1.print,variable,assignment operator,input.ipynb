{
 "cells": [
  {
   "cell_type": "code",
   "execution_count": 3,
   "id": "4c61b075-3b39-4c00-9cd3-cbc637667bc6",
   "metadata": {},
   "outputs": [
    {
     "name": "stdout",
     "output_type": "stream",
     "text": [
      "Hello world\n"
     ]
    }
   ],
   "source": [
    "print(\"Hello world\")"
   ]
  },
  {
   "cell_type": "code",
   "execution_count": 5,
   "id": "70f96032-62e3-48e4-90a6-1a6abf6338f7",
   "metadata": {},
   "outputs": [],
   "source": [
    "num1=10\n",
    "num2=20\n",
    "add=num1+num2"
   ]
  },
  {
   "cell_type": "code",
   "execution_count": 9,
   "id": "90dc013a-84b6-4cfa-b008-b79a6258d8db",
   "metadata": {},
   "outputs": [
    {
     "name": "stdout",
     "output_type": "stream",
     "text": [
      "The addition of two numbers\n",
      "The number 1:  10\n",
      "The number 2:  20\n",
      "The sum:  30\n"
     ]
    }
   ],
   "source": [
    "print(\"The addition of two numbers\")\n",
    "print(\"The number 1: \",num1)\n",
    "print(\"The number 2: \",num2)\n",
    "print(\"The sum: \",add)"
   ]
  },
  {
   "cell_type": "code",
   "execution_count": 19,
   "id": "f70e6398-97b7-4859-8a40-cd5e58bfd7c4",
   "metadata": {},
   "outputs": [
    {
     "name": "stdout",
     "output_type": "stream",
     "text": [
      "The addition of two numbers \n",
      " The number 1:\t 10 \n",
      "The number 2:\t 20 \n",
      "The sum:\t 30\n"
     ]
    }
   ],
   "source": [
    "print(\"The addition of two numbers \\n The number 1:\\t\",num1, \"\\nThe number 2:\\t\",num2 ,\"\\nThe sum:\\t\",add )\n"
   ]
  },
  {
   "cell_type": "code",
   "execution_count": 15,
   "id": "3bcc15e0-c877-4d96-913d-7aa63da7e807",
   "metadata": {},
   "outputs": [
    {
     "name": "stdout",
     "output_type": "stream",
     "text": [
      "The addition of two numbers \n",
      " The number 1:\t 10\n"
     ]
    }
   ],
   "source": [
    "print(\"The addition of two numbers \\n The number 1:\\t\",num1)"
   ]
  },
  {
   "cell_type": "code",
   "execution_count": 21,
   "id": "e8065b64-8006-480b-a035-cf1fffb43bc4",
   "metadata": {},
   "outputs": [
    {
     "name": "stdin",
     "output_type": "stream",
     "text": [
      "enter first number 50\n",
      "enter second number 30\n"
     ]
    },
    {
     "name": "stdout",
     "output_type": "stream",
     "text": [
      "the sum is: 5030\n"
     ]
    }
   ],
   "source": [
    "num1=input(\"enter first number\")\n",
    "num2=input(\"enter second number\")\n",
    "print(\"the sum is:\",num1+num2)"
   ]
  },
  {
   "cell_type": "code",
   "execution_count": 23,
   "id": "16d2dc7f-000a-4680-80c7-fa2276bc742d",
   "metadata": {},
   "outputs": [
    {
     "name": "stdin",
     "output_type": "stream",
     "text": [
      "enter first number 50\n",
      "enter second number 30\n"
     ]
    },
    {
     "name": "stdout",
     "output_type": "stream",
     "text": [
      "the sum is: 80\n"
     ]
    }
   ],
   "source": [
    "#input stament receives string object only\n",
    "num1=int(input(\"enter first number\"))\n",
    "num2=int(input(\"enter second number\"))\n",
    "print(\"the sum is:\",num1+num2)\n"
   ]
  },
  {
   "cell_type": "code",
   "execution_count": null,
   "id": "24797223-129d-49c7-9714-7348b79a0ebe",
   "metadata": {},
   "outputs": [],
   "source": [
    "#kernel --> restart and clear output (to clear astriek * symbol)\n",
    "#eof -end of file error- bracket not closed\n",
    "#name error- name noit defined,spelling mistake\n",
    "#code or markdown -explanation"
   ]
  },
  {
   "cell_type": "code",
   "execution_count": null,
   "id": "8b75d129-ec2e-4f0a-a09c-d6ee70c7c1c1",
   "metadata": {},
   "outputs": [],
   "source": []
  }
 ],
 "metadata": {
  "kernelspec": {
   "display_name": "Python 3 (ipykernel)",
   "language": "python",
   "name": "python3"
  },
  "language_info": {
   "codemirror_mode": {
    "name": "ipython",
    "version": 3
   },
   "file_extension": ".py",
   "mimetype": "text/x-python",
   "name": "python",
   "nbconvert_exporter": "python",
   "pygments_lexer": "ipython3",
   "version": "3.12.4"
  }
 },
 "nbformat": 4,
 "nbformat_minor": 5
}
