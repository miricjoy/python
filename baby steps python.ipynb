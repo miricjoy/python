{
 "cells": [
  {
   "cell_type": "code",
   "execution_count": 1,
   "id": "f7e461b5-2472-4a8d-8c0d-4f10e93322f7",
   "metadata": {},
   "outputs": [
    {
     "name": "stdout",
     "output_type": "stream",
     "text": [
      "Welcome to Assignment-1\n"
     ]
    }
   ],
   "source": [
    "print(\"Welcome to Assignment-1\")"
   ]
  },
  {
   "cell_type": "code",
   "execution_count": 3,
   "id": "a389a2d5-580b-4f1a-b52b-c87af5e1cd51",
   "metadata": {},
   "outputs": [
    {
     "name": "stdin",
     "output_type": "stream",
     "text": [
      "enter number 1 10\n",
      "enter number 2 30\n"
     ]
    }
   ],
   "source": [
    "num1=int(input(\"enter number 1\"))\n",
    "num2=int(input(\"enter number 2\"))\n"
   ]
  },
  {
   "cell_type": "code",
   "execution_count": 7,
   "id": "60617292-d83b-4132-ae2a-8614c52a1dca",
   "metadata": {},
   "outputs": [
    {
     "name": "stdout",
     "output_type": "stream",
     "text": [
      "Num1 = 10\n",
      "Num2 = 30\n",
      "Add =  40\n"
     ]
    }
   ],
   "source": [
    "print(\"Num1 =\",num1)\n",
    "print(\"Num2 =\",num2)\n",
    "print(\"Add = \",num1+num2)"
   ]
  },
  {
   "cell_type": "code",
   "execution_count": 23,
   "id": "93dadaa3-d485-4a74-8def-be959e9258dc",
   "metadata": {},
   "outputs": [
    {
     "name": "stdin",
     "output_type": "stream",
     "text": [
      "enter the BMI 40\n"
     ]
    },
    {
     "name": "stdout",
     "output_type": "stream",
     "text": [
      "class 3 obesity\n"
     ]
    }
   ],
   "source": [
    "bmi=int(input(\"enter the BMI\"))\n",
    "if(bmi<18.5):\n",
    "    print(\"underweight\")\n",
    "elif(bmi<24.9):\n",
    "    print(\"normal weight\")\n",
    "elif(bmi<29.9):\n",
    "    print(\"class 1 obesity\")\n",
    "elif(bmi<39.9):\n",
    "    print(\"class 2 obesity-very overweight\")\n",
    "else:\n",
    "    print(\"class 3 obesity\")"
   ]
  },
  {
   "cell_type": "code",
   "execution_count": null,
   "id": "96a8eee4-91d8-481a-a586-a6a6d778a0dd",
   "metadata": {},
   "outputs": [],
   "source": []
  }
 ],
 "metadata": {
  "kernelspec": {
   "display_name": "Python 3 (ipykernel)",
   "language": "python",
   "name": "python3"
  },
  "language_info": {
   "codemirror_mode": {
    "name": "ipython",
    "version": 3
   },
   "file_extension": ".py",
   "mimetype": "text/x-python",
   "name": "python",
   "nbconvert_exporter": "python",
   "pygments_lexer": "ipython3",
   "version": "3.12.4"
  }
 },
 "nbformat": 4,
 "nbformat_minor": 5
}
