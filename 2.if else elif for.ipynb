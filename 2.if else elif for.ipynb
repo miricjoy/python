{
 "cells": [
  {
   "cell_type": "code",
   "execution_count": 1,
   "id": "bf0fea8a-9f03-4ea6-ba1e-5be0086be18c",
   "metadata": {},
   "outputs": [
    {
     "name": "stdout",
     "output_type": "stream",
     "text": [
      "adult\n"
     ]
    }
   ],
   "source": [
    "#if\n",
    "age=20\n",
    "if(age>=18):\n",
    "    print(\"adult\")"
   ]
  },
  {
   "cell_type": "code",
   "execution_count": 5,
   "id": "a3cc9e6b-006b-4356-b910-a735a94f05bc",
   "metadata": {},
   "outputs": [
    {
     "name": "stdin",
     "output_type": "stream",
     "text": [
      "enter age 4\n"
     ]
    },
    {
     "name": "stdout",
     "output_type": "stream",
     "text": [
      "child\n"
     ]
    }
   ],
   "source": [
    "#if else\n",
    "age=int(input(\"enter age\"))\n",
    "if(age>=18):\n",
    "    print(\"adult\")\n",
    "else:\n",
    "    print(\"child\")"
   ]
  },
  {
   "cell_type": "code",
   "execution_count": 5,
   "id": "07f84b91-cbcb-4b7f-b7d1-2e3bb5369708",
   "metadata": {},
   "outputs": [
    {
     "name": "stdin",
     "output_type": "stream",
     "text": [
      "enter age 4\n"
     ]
    },
    {
     "name": "stdout",
     "output_type": "stream",
     "text": [
      "child\n"
     ]
    }
   ],
   "source": [
    "#if else\n",
    "age=int(input(\"enter age\"))\n",
    "if(age>=18):\n",
    "    print(\"adult\")\n",
    "else:\n",
    "    print(\"child\")"
   ]
  },
  {
   "cell_type": "code",
   "execution_count": 13,
   "id": "1148365c-049c-4bbc-b626-25a8929e9b7b",
   "metadata": {},
   "outputs": [
    {
     "name": "stdin",
     "output_type": "stream",
     "text": [
      "enter age 64\n"
     ]
    },
    {
     "name": "stdout",
     "output_type": "stream",
     "text": [
      "senior citizen\n"
     ]
    }
   ],
   "source": [
    "#if elif else\n",
    "age=int(input(\"enter age\"))\n",
    "if(age<18):\n",
    "    print(\"child\")\n",
    "elif(age<35):\n",
    "    print(\"young adult\")\n",
    "elif(age<60):\n",
    "    print(\"adult\")\n",
    "else:\n",
    "    print(\"senior citizen\")"
   ]
  },
  {
   "cell_type": "code",
   "execution_count": 24,
   "id": "45eee593-de72-4f6d-89dc-01d1b20cde89",
   "metadata": {},
   "outputs": [
    {
     "name": "stdout",
     "output_type": "stream",
     "text": [
      "child\n",
      "young adult\n",
      "adult\n",
      "senior citizen\n"
     ]
    }
   ],
   "source": [
    "#for\n",
    "ages=[4,25,45,65]\n",
    "for i in ages:\n",
    "    \n",
    "   if(i<18):\n",
    "        print(\"child\")\n",
    "   elif(i<35):\n",
    "        print(\"young adult\")\n",
    "   elif(i<60):\n",
    "        print(\"adult\")\n",
    "   else:\n",
    "        print(\"senior citizen\") "
   ]
  },
  {
   "cell_type": "code",
   "execution_count": 22,
   "id": "369945df-1c3f-45f0-83f4-475ce7a9c56e",
   "metadata": {},
   "outputs": [
    {
     "data": {
      "text/plain": [
       "[4, 25, 45, 65]"
      ]
     },
     "execution_count": 22,
     "metadata": {},
     "output_type": "execute_result"
    }
   ],
   "source": [
    "ages"
   ]
  },
  {
   "cell_type": "code",
   "execution_count": 26,
   "id": "46bb952f-a8fe-4908-8307-be48581ea227",
   "metadata": {},
   "outputs": [
    {
     "data": {
      "text/plain": [
       "range(1, 10)"
      ]
     },
     "execution_count": 26,
     "metadata": {},
     "output_type": "execute_result"
    }
   ],
   "source": [
    "range(1,10)"
   ]
  },
  {
   "cell_type": "code",
   "execution_count": 30,
   "id": "16903854-bdc1-4c71-832d-d451c9ae1739",
   "metadata": {},
   "outputs": [
    {
     "data": {
      "text/plain": [
       "range(1, 10, 2)"
      ]
     },
     "execution_count": 30,
     "metadata": {},
     "output_type": "execute_result"
    }
   ],
   "source": [
    "range(1,10,2)"
   ]
  },
  {
   "cell_type": "code",
   "execution_count": 32,
   "id": "a0930bcf-96b3-4577-8ae3-9a9e92ada8dc",
   "metadata": {},
   "outputs": [
    {
     "name": "stdout",
     "output_type": "stream",
     "text": [
      "1\n",
      "2\n",
      "3\n",
      "4\n",
      "5\n",
      "6\n",
      "7\n",
      "8\n",
      "9\n"
     ]
    }
   ],
   "source": [
    "for i in range(1,10):\n",
    "    print(i)"
   ]
  },
  {
   "cell_type": "code",
   "execution_count": 34,
   "id": "df650af9-1e6a-4e03-89e7-16b89fbb2883",
   "metadata": {},
   "outputs": [
    {
     "name": "stdout",
     "output_type": "stream",
     "text": [
      "1\n",
      "3\n",
      "5\n",
      "7\n",
      "9\n"
     ]
    }
   ],
   "source": [
    "for i in range(1,10,2):\n",
    "    print(i)"
   ]
  },
  {
   "cell_type": "code",
   "execution_count": 38,
   "id": "9e3be314-5fac-49ca-97b2-7298fa4c8e40",
   "metadata": {},
   "outputs": [
    {
     "name": "stdin",
     "output_type": "stream",
     "text": [
      "enter a number 2\n"
     ]
    },
    {
     "name": "stdout",
     "output_type": "stream",
     "text": [
      "even\n"
     ]
    }
   ],
   "source": [
    "#odd even\n",
    "num= int(input(\"enter a number\"))\n",
    "if (num%2==0):\n",
    "    print(\"even\")\n",
    "else:\n",
    "    print(\"odd\")"
   ]
  },
  {
   "cell_type": "code",
   "execution_count": null,
   "id": "74915c11-8485-412b-ab8b-10ff7a41008d",
   "metadata": {},
   "outputs": [],
   "source": [
    "num= int(input(\"enter a number\"))\n",
    "if (num%2==1):\n",
    "    print(\"odd\")\n",
    "else:\n",
    "    print(\"even\")"
   ]
  },
  {
   "cell_type": "code",
   "execution_count": null,
   "id": "4e9a5f41-f1be-4fb5-ba7c-cc972108f922",
   "metadata": {},
   "outputs": [],
   "source": []
  }
 ],
 "metadata": {
  "kernelspec": {
   "display_name": "Python 3 (ipykernel)",
   "language": "python",
   "name": "python3"
  },
  "language_info": {
   "codemirror_mode": {
    "name": "ipython",
    "version": 3
   },
   "file_extension": ".py",
   "mimetype": "text/x-python",
   "name": "python",
   "nbconvert_exporter": "python",
   "pygments_lexer": "ipython3",
   "version": "3.12.4"
  }
 },
 "nbformat": 4,
 "nbformat_minor": 5
}
